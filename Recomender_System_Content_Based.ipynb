{
  "nbformat": 4,
  "nbformat_minor": 0,
  "metadata": {
    "colab": {
      "name": "Recomender_System_Content_Based.ipynb",
      "provenance": [],
      "collapsed_sections": []
    },
    "kernelspec": {
      "name": "python3",
      "display_name": "Python 3"
    },
    "language_info": {
      "name": "python"
    }
  },
  "cells": [
    {
      "cell_type": "code",
      "source": [
        "\"\"\"Using the movies dataset to model the content based recomender system\n",
        "Author: Siva E\n",
        "Version:1.0\"\"\""
      ],
      "metadata": {
        "id": "FS_EQKn188B6",
        "colab": {
          "base_uri": "https://localhost:8080/",
          "height": 35
        },
        "outputId": "3d84c626-029e-4c25-8fa8-d0c3174f69cc"
      },
      "execution_count": 333,
      "outputs": [
        {
          "output_type": "execute_result",
          "data": {
            "text/plain": [
              "'Using the movies dataset to model the content based recomender system\\nAuthor: Siva E\\nVersion:1.0'"
            ],
            "application/vnd.google.colaboratory.intrinsic+json": {
              "type": "string"
            }
          },
          "metadata": {},
          "execution_count": 333
        }
      ]
    },
    {
      "cell_type": "code",
      "source": [
        "\"\"\"Details of data are given below:\n",
        "http://www.movielens.org/\n",
        "\n",
        "contains three files as below\n",
        "\n",
        "RATINGS FILE DESCRIPTION\n",
        "UserID::MovieID::Rating::Timestamp\n",
        "\n",
        "USERS FILE DESCRIPTION\n",
        "UserID::Gender::Age::Occupation::Zip-code\n",
        "\n",
        "MOVIES FILE DESCRIPTION\n",
        "MovieID::Title::Genres\"\"\""
      ],
      "metadata": {
        "colab": {
          "base_uri": "https://localhost:8080/",
          "height": 70
        },
        "id": "9CneioYH_EtV",
        "outputId": "2f3136bb-13b8-4063-b995-c408a5b0591d"
      },
      "execution_count": 334,
      "outputs": [
        {
          "output_type": "execute_result",
          "data": {
            "text/plain": [
              "'Details of data are given below:\\nhttp://www.movielens.org/\\n\\ncontains three files as below\\n\\nRATINGS FILE DESCRIPTION\\nUserID::MovieID::Rating::Timestamp\\n\\nUSERS FILE DESCRIPTION\\nUserID::Gender::Age::Occupation::Zip-code\\n\\nMOVIES FILE DESCRIPTION\\nMovieID::Title::Genres'"
            ],
            "application/vnd.google.colaboratory.intrinsic+json": {
              "type": "string"
            }
          },
          "metadata": {},
          "execution_count": 334
        }
      ]
    },
    {
      "cell_type": "code",
      "source": [
        "# load required modules on demand and read in data to required format\n",
        "import pandas as pd"
      ],
      "metadata": {
        "id": "zzHmk3tyCsQL"
      },
      "execution_count": 335,
      "outputs": []
    },
    {
      "cell_type": "code",
      "source": [
        "# loading movies data\n",
        "movies=pd.read_csv(\"/movies.dat\",sep=\"::\", encoding=\"latin-1\", names=[\"MovieID\", \"MovieName\", \"Genre\"],header=None)"
      ],
      "metadata": {
        "colab": {
          "base_uri": "https://localhost:8080/"
        },
        "id": "nBrlLgjWDFNq",
        "outputId": "debca036-d10b-4c22-8785-0e1548cd264b"
      },
      "execution_count": 336,
      "outputs": [
        {
          "output_type": "stream",
          "name": "stderr",
          "text": [
            "/usr/local/lib/python3.7/dist-packages/pandas/util/_decorators.py:311: ParserWarning: Falling back to the 'python' engine because the 'c' engine does not support regex separators (separators > 1 char and different from '\\s+' are interpreted as regex); you can avoid this warning by specifying engine='python'.\n",
            "  return func(*args, **kwargs)\n"
          ]
        }
      ]
    },
    {
      "cell_type": "code",
      "source": [
        "movies.head"
      ],
      "metadata": {
        "colab": {
          "base_uri": "https://localhost:8080/"
        },
        "id": "u-qLB5cdRrcS",
        "outputId": "3f786104-3fc8-485b-8933-3506bc70a541"
      },
      "execution_count": 337,
      "outputs": [
        {
          "output_type": "execute_result",
          "data": {
            "text/plain": [
              "<bound method NDFrame.head of       MovieID                           MovieName  \\\n",
              "0           1                    Toy Story (1995)   \n",
              "1           2                      Jumanji (1995)   \n",
              "2           3             Grumpier Old Men (1995)   \n",
              "3           4            Waiting to Exhale (1995)   \n",
              "4           5  Father of the Bride Part II (1995)   \n",
              "...       ...                                 ...   \n",
              "3878     3948             Meet the Parents (2000)   \n",
              "3879     3949          Requiem for a Dream (2000)   \n",
              "3880     3950                    Tigerland (2000)   \n",
              "3881     3951             Two Family House (2000)   \n",
              "3882     3952               Contender, The (2000)   \n",
              "\n",
              "                             Genre  \n",
              "0      Animation|Children's|Comedy  \n",
              "1     Adventure|Children's|Fantasy  \n",
              "2                   Comedy|Romance  \n",
              "3                     Comedy|Drama  \n",
              "4                           Comedy  \n",
              "...                            ...  \n",
              "3878                        Comedy  \n",
              "3879                         Drama  \n",
              "3880                         Drama  \n",
              "3881                         Drama  \n",
              "3882                Drama|Thriller  \n",
              "\n",
              "[3883 rows x 3 columns]>"
            ]
          },
          "metadata": {},
          "execution_count": 337
        }
      ]
    },
    {
      "cell_type": "code",
      "source": [
        "# loading ratings data\n",
        "ratings=pd.read_csv(\"/ratings.dat\",sep=\"::\", encoding=\"latin-1\", names=[\"UserID\",\"MovieID\",\"Rating\",\"Timestamp\"],header=None)"
      ],
      "metadata": {
        "colab": {
          "base_uri": "https://localhost:8080/"
        },
        "id": "v0Wyo0eagmwK",
        "outputId": "0b555c84-2f71-4b3f-d8ca-0bf956264f11"
      },
      "execution_count": 338,
      "outputs": [
        {
          "output_type": "stream",
          "name": "stderr",
          "text": [
            "/usr/local/lib/python3.7/dist-packages/pandas/util/_decorators.py:311: ParserWarning: Falling back to the 'python' engine because the 'c' engine does not support regex separators (separators > 1 char and different from '\\s+' are interpreted as regex); you can avoid this warning by specifying engine='python'.\n",
            "  return func(*args, **kwargs)\n"
          ]
        }
      ]
    },
    {
      "cell_type": "code",
      "source": [
        "#  To use countvectoriser to vectorise Genre column\n",
        "from sklearn.feature_extraction.text import CountVectorizer\n",
        "tfidf=CountVectorizer(analyzer=\"word\",stop_words=\"english\")"
      ],
      "metadata": {
        "id": "xFi_moXvLDsu"
      },
      "execution_count": 339,
      "outputs": []
    },
    {
      "cell_type": "code",
      "source": [
        "# correcting the special charcters in genres\n",
        "movies[\"Genre\"]=movies[\"Genre\"].map(lambda Genre: Genre.replace(\"|\",\" \"))"
      ],
      "metadata": {
        "id": "hpwalv8TNKsb"
      },
      "execution_count": 340,
      "outputs": []
    },
    {
      "cell_type": "code",
      "source": [
        "movies[\"Genre\"]=movies[\"Genre\"].map(lambda Genre: Genre.replace(\"-\",\"\"))"
      ],
      "metadata": {
        "id": "L7qQ_spEvpea"
      },
      "execution_count": 341,
      "outputs": []
    },
    {
      "cell_type": "code",
      "source": [
        "genres=tfidf.fit_transform(movies[\"Genre\"])"
      ],
      "metadata": {
        "id": "CrvdY_UVN-Q8"
      },
      "execution_count": 342,
      "outputs": []
    },
    {
      "cell_type": "code",
      "source": [
        "genre_names=list(tfidf.get_feature_names_out())"
      ],
      "metadata": {
        "id": "J0wwGYQRZSb4"
      },
      "execution_count": 343,
      "outputs": []
    },
    {
      "cell_type": "code",
      "source": [
        "# converting spare matrix output to dense pandas df\n",
        "genre_df=pd.DataFrame.sparse.from_spmatrix(genres,columns=genre_names)"
      ],
      "metadata": {
        "id": "Xi0WC_mntIY7"
      },
      "execution_count": 344,
      "outputs": []
    },
    {
      "cell_type": "code",
      "source": [
        "# combining movies and vectorised Genre df\n",
        "movie_genre=pd.concat([movies,genre_df],axis=1)"
      ],
      "metadata": {
        "id": "vTNKjHKclo9O"
      },
      "execution_count": 345,
      "outputs": []
    },
    {
      "cell_type": "code",
      "source": [
        "movie_genre.drop([\"MovieName\",\"Genre\"],axis=1,inplace=True)"
      ],
      "metadata": {
        "id": "szQ0pPzbqhlM"
      },
      "execution_count": 346,
      "outputs": []
    },
    {
      "cell_type": "code",
      "source": [
        "movie_genre.set_index(\"MovieID\",inplace=True)"
      ],
      "metadata": {
        "id": "kGyYs1sMlzVy"
      },
      "execution_count": 347,
      "outputs": []
    },
    {
      "cell_type": "code",
      "source": [
        "# forming a column for mean ratings foreach movie\n",
        "ratings_grouped=ratings.groupby(\"MovieID\")[\"Rating\"].mean()"
      ],
      "metadata": {
        "id": "SxgEWdTZt7oi"
      },
      "execution_count": 348,
      "outputs": []
    },
    {
      "cell_type": "code",
      "source": [
        "# merging movie, genre, and rating data\n",
        "movies_ratings=pd.merge(movie_genre,ratings_grouped,on=\"MovieID\")"
      ],
      "metadata": {
        "id": "O9-t-Xu9tbuP"
      },
      "execution_count": 349,
      "outputs": []
    },
    {
      "cell_type": "code",
      "source": [
        "# finding similarity of the vectors using cosine similarity\n",
        "from sklearn.metrics.pairwise import cosine_similarity"
      ],
      "metadata": {
        "id": "6kxXlgcYjSnO"
      },
      "execution_count": 350,
      "outputs": []
    },
    {
      "cell_type": "code",
      "source": [
        "similarity_mat=cosine_similarity(movies_ratings.to_numpy())"
      ],
      "metadata": {
        "id": "b8tEz8sfyyS1"
      },
      "execution_count": 351,
      "outputs": []
    },
    {
      "cell_type": "code",
      "source": [
        "# reference to lookup movieID from index\n",
        "MID=movies_ratings.index.to_list()"
      ],
      "metadata": {
        "id": "3_BJ1TZo6jWg"
      },
      "execution_count": 352,
      "outputs": []
    },
    {
      "cell_type": "code",
      "source": [
        "# input a mobiename from data\n",
        "input_movie=input(\"enter movie: \")\n"
      ],
      "metadata": {
        "colab": {
          "base_uri": "https://localhost:8080/"
        },
        "id": "xSYReqD0tqWJ",
        "outputId": "6cd1f45f-48f3-4387-a211-4e9346a8bf32"
      },
      "execution_count": 353,
      "outputs": [
        {
          "name": "stdout",
          "output_type": "stream",
          "text": [
            "enter movie: Wanted: Dead or Alive (1987)\n"
          ]
        }
      ]
    },
    {
      "cell_type": "code",
      "source": [
        "# Get movieID of the given movie\n",
        "movie_ID=movies.at[movies[movies[\"MovieName\"]==input_movie].index[0],\"MovieID\"]"
      ],
      "metadata": {
        "id": "XxeIlnChwll4"
      },
      "execution_count": 354,
      "outputs": []
    },
    {
      "cell_type": "code",
      "source": [
        "# get top 5 similar movies from similarity matrix corresponding to given movie\n",
        "top5_list_tuple=sorted(list(enumerate(similarity_mat[MID.index(movie_ID)])), key=lambda x:x[1],reverse=True)\n",
        "ID_list=[]\n",
        "for tups in top5_list_tuple[:6]:\n",
        "  ID_list.append(tups[0])"
      ],
      "metadata": {
        "id": "-DbB7tr63Kc-"
      },
      "execution_count": 355,
      "outputs": []
    },
    {
      "cell_type": "code",
      "source": [
        "# output the 5 simolar movie names to given movie\n",
        "for Ids in ID_list[1:]:\n",
        "  print(movies[movies[\"MovieID\"]==Ids][\"MovieName\"].values[0])"
      ],
      "metadata": {
        "colab": {
          "base_uri": "https://localhost:8080/"
        },
        "id": "PG6d_MkC-kby",
        "outputId": "dfbc63d4-088c-4d21-ad7d-274bbe679ff9"
      },
      "execution_count": 356,
      "outputs": [
        {
          "output_type": "stream",
          "name": "stdout",
          "text": [
            "Born to Win (1971)\n",
            "Never Talk to Strangers (1995)\n",
            "Man Who Knew Too Much, The (1956)\n",
            "Somewhere in Time (1980)\n",
            "Gumby: The Movie (1995)\n"
          ]
        }
      ]
    }
  ]
}